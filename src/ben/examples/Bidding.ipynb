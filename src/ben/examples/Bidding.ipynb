{
 "cells": [
  {
   "cell_type": "markdown",
   "id": "75d07246",
   "metadata": {},
   "source": [
    "# Bidding\n",
    "\n",
    "This is a tutorial for how to use the bidding engine"
   ]
  },
  {
   "cell_type": "code",
   "execution_count": 1,
   "id": "59a5664c",
   "metadata": {},
   "outputs": [
    {
     "name": "stdout",
     "output_type": "stream",
     "text": [
      "WARNING:tensorflow:From c:\\Python311\\Lib\\site-packages\\tensorflow\\python\\compat\\v2_compat.py:107: disable_resource_variables (from tensorflow.python.ops.variable_scope) is deprecated and will be removed in a future version.\n",
      "Instructions for updating:\n",
      "non-resource variables are not supported in the long term\n"
     ]
    }
   ],
   "source": [
    "import os\n",
    "os.chdir('..')\n",
    "\n",
    "from nn.models import Models\n",
    "from bots import BotBid\n",
    "from bidding import bidding\n",
    "from util import hand_to_str\n",
    "from deck52 import random_deal\n",
    "from sample import Sample\n",
    "import conf\n",
    "import numpy as np\n",
    "\n",
    "np.set_printoptions(precision=2, suppress=True, linewidth=200)\n"
   ]
  },
  {
   "cell_type": "code",
   "execution_count": 2,
   "id": "44786d5d",
   "metadata": {},
   "outputs": [
    {
     "name": "stdout",
     "output_type": "stream",
     "text": [
      "INFO:tensorflow:Restoring parameters from ..\\scripts/training/bidding/model/bidding-1248000\n",
      "INFO:tensorflow:Restoring parameters from ..\\models/gib21_info_model/gib21_info-500000\n",
      "INFO:tensorflow:Restoring parameters from ..\\models/lead_model_b/lead-1000000\n",
      "INFO:tensorflow:Restoring parameters from ..\\models/lr3_model/lr3-1000000\n",
      "INFO:tensorflow:Restoring parameters from ..\\models/lefty_model/lefty-1000000\n",
      "INFO:tensorflow:Restoring parameters from ..\\models/dummy_model/dummy-920000\n",
      "INFO:tensorflow:Restoring parameters from ..\\models/righty_model/righty-1000000\n",
      "INFO:tensorflow:Restoring parameters from ..\\models/decl_model/decl-1000000\n"
     ]
    }
   ],
   "source": [
    "models = Models.from_conf(conf.load('./config/default.conf'),'..')   # loading neural networks\n",
    "sampler = Sample.from_conf(conf.load('./config/default.conf'))  # Load sampling strategies"
   ]
  },
  {
   "cell_type": "markdown",
   "id": "10d8f2fc",
   "metadata": {},
   "source": [
    "### Running through an example"
   ]
  },
  {
   "cell_type": "code",
   "execution_count": 3,
   "id": "19dbfeb7",
   "metadata": {},
   "outputs": [
    {
     "data": {
      "text/plain": [
       "[{'call': '4H', 'insta_score': 0.6496},\n",
       " {'call': 'PASS', 'insta_score': 0.1713},\n",
       " {'call': 'X', 'insta_score': 0.1437}]"
      ]
     },
     "execution_count": 3,
     "metadata": {},
     "output_type": "execute_result"
    }
   ],
   "source": [
    "# East deals, EW vulnerable.\n",
    "vuln_ns, vuln_ew = False, False\n",
    "\n",
    "# you sit West and hold:\n",
    "hand = '6.AKJT82.762.K63'\n",
    "\n",
    "# the auction goes:\n",
    "# (a few words about 'PAD_START':\n",
    "# the auction is padded to dealer North\n",
    "# if North is not dealer, than we have to put in a 'PAD_START' for every seat that was skipped\n",
    "# if East deals we have one pad (because North is skipped)\n",
    "# if South deals we have two pads (because North and East are skipped)\n",
    "# etc.)\n",
    "auction = ['1D', '3S']\n",
    "bot_bid = BotBid([vuln_ns, vuln_ew], hand, models, -1, -1, sampler, False)\n",
    "\n",
    "bid = bot_bid.bid(auction)\n",
    "bid.to_dict()['candidates']\n",
    "\n",
    "# what's your bid?"
   ]
  },
  {
   "cell_type": "code",
   "execution_count": 4,
   "id": "bfe98f56",
   "metadata": {},
   "outputs": [
    {
     "data": {
      "text/plain": [
       "[{'call': 'PASS', 'insta_score': 0.7673},\n",
       " {'call': '6H', 'insta_score': 0.2015}]"
      ]
     },
     "execution_count": 4,
     "metadata": {},
     "output_type": "execute_result"
    }
   ],
   "source": [
    "auction = ['1D', '3S', '4H', '4S', '5H', 'PASS']\n",
    "bid = bot_bid.bid(auction)\n",
    "bid.to_dict()['candidates']"
   ]
  },
  {
   "cell_type": "code",
   "execution_count": 5,
   "id": "602468ef",
   "metadata": {},
   "outputs": [
    {
     "data": {
      "text/plain": [
       "'PASS'"
      ]
     },
     "execution_count": 5,
     "metadata": {},
     "output_type": "execute_result"
    }
   ],
   "source": [
    "# you double, North bids 2S, your partner 3H, PASS, back to you ...\n",
    "\n",
    "bid = bot_bid.bid([\"PAD_START\", \"PASS\", \"1H\", \"X\", \"4H\", \"PASS\", \"PASS\", \"X\"])\n",
    "bid.bid"
   ]
  },
  {
   "cell_type": "code",
   "execution_count": 6,
   "id": "7227ea6b",
   "metadata": {},
   "outputs": [
    {
     "data": {
      "text/plain": [
       "[{'call': 'PASS', 'insta_score': 0.7176}, {'call': '6H', 'insta_score': 0.183}]"
      ]
     },
     "execution_count": 6,
     "metadata": {},
     "output_type": "execute_result"
    }
   ],
   "source": [
    "# what options were considered?\n",
    "\n",
    "bid.to_dict()['candidates']"
   ]
  },
  {
   "cell_type": "markdown",
   "id": "ad120123",
   "metadata": {},
   "source": [
    "in the output above:\n",
    "- `insta_score` reflects what the neural network prefers to bid\n",
    "- `expected_score` is based on what you expect to score on difference samples (for example, 70% of the time you are making and 30% of the time you are going one off, then the expected score is 0.7 * 620 - 0.3 * 100)"
   ]
  },
  {
   "cell_type": "markdown",
   "id": "051ff121",
   "metadata": {},
   "source": [
    "### Samples consistent with the auction so far\n",
    "\n",
    "Above we said that we are computig expected scores on samples consistent with the auction so far.\n",
    "\n",
    "How do we get these samples?\n",
    "\n",
    "We get some samples in the response we get from the bot (i.e `bid.samples`)"
   ]
  },
  {
   "cell_type": "code",
   "execution_count": 7,
   "id": "55b647a5",
   "metadata": {},
   "outputs": [
    {
     "data": {
      "text/plain": [
       "['x.AKJT8x.xxx.Kxx Jxxxx.x.QTxx.9xx AQ9.Q9xxx.9.QTxx KT8x.x.AKJ8x.AJ8',\n",
       " 'x.AKJT8x.xxx.Kxx 98xxx.x.J98x.Q9x AQT.Qxxxx.Tx.ATx KJxx.9.AKQx.J8xx',\n",
       " 'x.AKJT8x.xxx.Kxx Txxx.x.QJT9x.xxx KJ98.Q9xxx.K.Q9x AQxx.x.A8xx.AJT8',\n",
       " 'x.AKJT8x.xxx.Kxx 98xxx.x.KQ98.9xx AKTx.Q9xxx.x.QTx QJx.x.AJTxx.AJ8x',\n",
       " 'x.AKJT8x.xxx.Kxx A98xx.x.8xx.J8xx KQx.Q9xxx.K9.9xx JTxx.x.AQJTx.AQT',\n",
       " 'x.AKJT8x.xxx.Kxx K9xxx.xx.QTx.Q9x A8x.Q9xxx.K8.JT8 QJTx..AJ9xx.Axxx',\n",
       " 'x.AKJT8x.xxx.Kxx QTxxxx.xx.Tx.9xx AJ9.Q9xxx.Q9x.AT K8x..AKJ8x.QJ8xx',\n",
       " 'x.AKJT8x.xxx.Kxx xxx.x.98xx.J9xxx AKT8.Q9xxx.KJT.T QJ9xx.x.AQx.AQ8x',\n",
       " 'x.AKJT8x.xxx.Kxx QT9xxx.9x.x.QJTx AJ8x.Qxxxx.KT9.x Kx..AQJ8xx.A98xx',\n",
       " 'x.AKJT8x.xxx.Kxx AT98xxx.x.8x.xxx QJx.Q9xxx.KJ.QJ8 Kx.x.AQT9xx.AT9x',\n",
       " 'x.AKJT8x.xxx.Kxx xxx.x.J98x.QJxxx AJ8x.Q9xxxx.Ax.9 KQT9x..KQTx.AT8x',\n",
       " 'x.AKJT8x.xxx.Kxx Q9xxx.Q.T8x.JTxx 8.9xxxx.KQJ9.A98 AKJTxx.x.Axx.Qxx',\n",
       " 'x.AKJT8x.xxx.Kxx Txxx.Qxx.9x.QJxx AJxx.9xxx.KQJ.98 KQ98..AT8xx.ATxx',\n",
       " 'x.AKJT8x.xxx.Kxx JT98x.9x.8.QJT9x Kxxx.Qxxx.AQT.xx AQx.x.KJ9xxx.A8x',\n",
       " 'x.AKJT8x.xxx.Kxx T9xx..QT98.Q8xxx AQ8.9xxxxx.Kx.AT KJxxx.Q.AJxx.J9x',\n",
       " 'x.AKJT8x.xxx.Kxx QJ8x.x.JT8xx.Q8x T9x.Q9xxxx.AK.Jx AKxxx..Q9x.AT9xx',\n",
       " 'x.AKJT8x.xxx.Kxx 98xxx.Qx.xx.QJTx AQJTx.9xxx.A8.9x Kx.x.KQJT9x.A8xx',\n",
       " 'x.AKJT8x.xxx.Kxx Q9xxx.x.AJ8x.Txx AJT8x.Q9xxx.x.QJ Kx.x.KQT9x.A98xx',\n",
       " 'x.AKJT8x.xxx.Kxx QJ8xxx.9xx.8.Txx Txx.Qxxx.AKQx.Jx AK9..JT9xx.AQ98x',\n",
       " 'x.AKJT8x.xxx.Kxx J8xxxx.xxx.9.98x AK.Q9xx.QJTx.Txx QT9x..AK8xx.AQJx']"
      ]
     },
     "execution_count": 7,
     "metadata": {},
     "output_type": "execute_result"
    }
   ],
   "source": [
    "bid.samples"
   ]
  },
  {
   "cell_type": "markdown",
   "id": "7d0dd8f5",
   "metadata": {},
   "source": [
    "each row is one sample. the hands are in the order: N E S W\n",
    "\n",
    "(West always has the same cards because it's your hand and it's known to you)"
   ]
  },
  {
   "cell_type": "code",
   "execution_count": 8,
   "id": "7101e514",
   "metadata": {},
   "outputs": [
    {
     "ename": "AttributeError",
     "evalue": "'tuple' object has no attribute 'shape'",
     "output_type": "error",
     "traceback": [
      "\u001b[1;31m---------------------------------------------------------------------------\u001b[0m",
      "\u001b[1;31mAttributeError\u001b[0m                            Traceback (most recent call last)",
      "\u001b[1;32md:\\github\\ben\\src\\examples\\Bidding.ipynb Cell 13\u001b[0m line \u001b[0;36m4\n\u001b[0;32m      <a href='vscode-notebook-cell:/d%3A/github/ben/src/examples/Bidding.ipynb#X15sZmlsZQ%3D%3D?line=0'>1</a>\u001b[0m \u001b[39m# we got some samples above. if we want more, we can always get more\u001b[39;00m\n\u001b[0;32m      <a href='vscode-notebook-cell:/d%3A/github/ben/src/examples/Bidding.ipynb#X15sZmlsZQ%3D%3D?line=2'>3</a>\u001b[0m sample_hands \u001b[39m=\u001b[39m bot_bid\u001b[39m.\u001b[39msample_hands([\u001b[39m'\u001b[39m\u001b[39mPAD_START\u001b[39m\u001b[39m'\u001b[39m, \u001b[39m'\u001b[39m\u001b[39mPAD_START\u001b[39m\u001b[39m'\u001b[39m, \u001b[39m'\u001b[39m\u001b[39mPAD_START\u001b[39m\u001b[39m'\u001b[39m,\u001b[39m'\u001b[39m\u001b[39m2N\u001b[39m\u001b[39m'\u001b[39m,\u001b[39m'\u001b[39m\u001b[39mPASS\u001b[39m\u001b[39m'\u001b[39m,\u001b[39m'\u001b[39m\u001b[39m3C\u001b[39m\u001b[39m'\u001b[39m,\u001b[39m'\u001b[39m\u001b[39mPASS\u001b[39m\u001b[39m'\u001b[39m,\u001b[39m'\u001b[39m\u001b[39m3D\u001b[39m\u001b[39m'\u001b[39m])\n\u001b[1;32m----> <a href='vscode-notebook-cell:/d%3A/github/ben/src/examples/Bidding.ipynb#X15sZmlsZQ%3D%3D?line=3'>4</a>\u001b[0m \u001b[39mprint\u001b[39m(sample_hands\u001b[39m.\u001b[39;49mshape[\u001b[39m0\u001b[39m])\n\u001b[0;32m      <a href='vscode-notebook-cell:/d%3A/github/ben/src/examples/Bidding.ipynb#X15sZmlsZQ%3D%3D?line=4'>5</a>\u001b[0m \u001b[39mfor\u001b[39;00m i \u001b[39min\u001b[39;00m \u001b[39mrange\u001b[39m(sample_hands\u001b[39m.\u001b[39mshape[\u001b[39m0\u001b[39m]):\n\u001b[0;32m      <a href='vscode-notebook-cell:/d%3A/github/ben/src/examples/Bidding.ipynb#X15sZmlsZQ%3D%3D?line=5'>6</a>\u001b[0m     \u001b[39mprint\u001b[39m(\u001b[39mf\u001b[39m\u001b[39m'\u001b[39m\u001b[39m{\u001b[39;00mhand_to_str(sample_hands[i,\u001b[39m \u001b[39m\u001b[39m0\u001b[39m,\u001b[39m \u001b[39m:])\u001b[39m}\u001b[39;00m\u001b[39m \u001b[39m\u001b[39m{\u001b[39;00mhand_to_str(sample_hands[i,\u001b[39m \u001b[39m\u001b[39m1\u001b[39m,\u001b[39m \u001b[39m:])\u001b[39m}\u001b[39;00m\u001b[39m \u001b[39m\u001b[39m{\u001b[39;00mhand_to_str(sample_hands[i,\u001b[39m \u001b[39m\u001b[39m2\u001b[39m,\u001b[39m \u001b[39m:])\u001b[39m}\u001b[39;00m\u001b[39m \u001b[39m\u001b[39m{\u001b[39;00mhand_to_str(sample_hands[i,\u001b[39m \u001b[39m\u001b[39m3\u001b[39m,\u001b[39m \u001b[39m:])\u001b[39m}\u001b[39;00m\u001b[39m'\u001b[39m)\n",
      "\u001b[1;31mAttributeError\u001b[0m: 'tuple' object has no attribute 'shape'"
     ]
    }
   ],
   "source": [
    "# we got some samples above. if we want more, we can always get more\n",
    "\n",
    "sample_hands = bot_bid.sample_hands(['PAD_START', 'PAD_START', 'PAD_START','2N','PASS','3C','PASS','3D'])\n",
    "print(sample_hands.shape[0])\n",
    "for i in range(sample_hands.shape[0]):\n",
    "    print(f'{hand_to_str(sample_hands[i, 0, :])} {hand_to_str(sample_hands[i, 1, :])} {hand_to_str(sample_hands[i, 2, :])} {hand_to_str(sample_hands[i, 3, :])}')"
   ]
  },
  {
   "cell_type": "markdown",
   "id": "7e7f18d2",
   "metadata": {},
   "source": [
    "How do we know on which sample 4H is making and on which sample it is not? It's the topic for another tutorial, but basically we could do either (1) solve the sample double dummpy or (2) estimate the outcome using a neural network"
   ]
  },
  {
   "cell_type": "markdown",
   "id": "669da023",
   "metadata": {},
   "source": [
    "### Bidding through an entire auction for all four hands\n",
    "\n",
    "Now we'll take a random deal and let the bot bid for each hand. We assume North deals and nobody is vulnerable."
   ]
  },
  {
   "cell_type": "code",
   "execution_count": null,
   "id": "fc27ca79",
   "metadata": {},
   "outputs": [],
   "source": [
    "hands = random_deal().split()\n",
    "hands # N, E, S, W"
   ]
  },
  {
   "cell_type": "code",
   "execution_count": null,
   "id": "d480cbba",
   "metadata": {},
   "outputs": [],
   "source": [
    "bidder_bots = [BotBid([False, False], hand, models, -1, -1, sampler, False) for hand in hands]"
   ]
  },
  {
   "cell_type": "code",
   "execution_count": null,
   "id": "7d77351a",
   "metadata": {},
   "outputs": [],
   "source": [
    "auction = []  # since North deals, we don't need any 'PAD_START'\n",
    "\n",
    "turn_i = 0  # whose turn is it to bid\n",
    "\n",
    "while not bidding.auction_over(auction):\n",
    "    auction.append(bidder_bots[turn_i].bid(auction).bid)\n",
    "    turn_i = (turn_i + 1) % 4  # next player's turn\n",
    "    \n",
    "auction"
   ]
  }
 ],
 "metadata": {
  "kernelspec": {
   "display_name": "Python 3 (ipykernel)",
   "language": "python",
   "name": "python3"
  },
  "language_info": {
   "codemirror_mode": {
    "name": "ipython",
    "version": 3
   },
   "file_extension": ".py",
   "mimetype": "text/x-python",
   "name": "python",
   "nbconvert_exporter": "python",
   "pygments_lexer": "ipython3",
   "version": "3.11.0"
  }
 },
 "nbformat": 4,
 "nbformat_minor": 5
}
