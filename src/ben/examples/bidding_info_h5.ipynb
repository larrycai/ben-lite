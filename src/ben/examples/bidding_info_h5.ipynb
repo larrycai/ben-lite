{
 "cells": [
  {
   "cell_type": "code",
   "execution_count": 1,
   "metadata": {},
   "outputs": [],
   "source": [
    "import os\n",
    "os.chdir('..')\n",
    "\n",
    "from util import hand_to_str\n",
    "from deck52 import random_deal\n",
    "import binary\n",
    "\n",
    "from nn.bid_info_tf2 import BidInfo\n",
    "\n",
    "binfo = BidInfo('../scripts/training/bidding_info/models/binfo.h5')"
   ]
  },
  {
   "cell_type": "code",
   "execution_count": 2,
   "metadata": {},
   "outputs": [
    {
     "name": "stdout",
     "output_type": "stream",
     "text": [
      "[[[ 0.      1.      2.      1.     -0.1428 -0.1428 -0.7144  1.\n",
      "    0.      0.      1.      1.      0.      1.      1.      1.\n",
      "    1.      0.      0.      1.      0.      0.      0.      0.\n",
      "    1.      0.      0.      0.      0.      0.      2.      0.\n",
      "    1.      0.      0.      0.      0.      1.      0.      1.\n",
      "    0.      0.      0.      0.      0.      0.      0.      0.\n",
      "    0.      0.      0.      0.      0.      0.      0.      0.\n",
      "    0.      0.      0.      0.      0.      0.      0.      0.\n",
      "    0.      0.      0.      0.      0.      0.      0.      0.\n",
      "    0.      0.      0.      0.      0.      0.      0.      1.\n",
      "    0.      0.      0.      0.      0.      0.      0.      0.\n",
      "    0.      0.      0.      0.      0.      0.      0.      0.\n",
      "    0.      0.      0.      0.      0.      0.      0.      0.\n",
      "    0.      0.      0.      0.      0.      0.      0.      0.\n",
      "    0.      0.      0.      0.      0.      0.      0.      0.\n",
      "    0.      0.      0.      0.      0.      0.      0.      0.\n",
      "    0.      0.      0.      0.      0.      0.      0.      0.\n",
      "    0.      0.      0.      1.      0.      0.      0.      0.\n",
      "    0.      0.      0.      0.      0.      0.      0.      0.\n",
      "    0.      0.      0.      0.      0.      0.      0.    ]]]\n"
     ]
    }
   ],
   "source": [
    "auction = ['4C']\n",
    "n_steps = 1 + (len(auction)-1) // 4\n",
    "ns = -1\n",
    "ew = -1\n",
    "nesw_i = 1\n",
    "vuln = [True, False]\n",
    "hand = binary.parse_hand_f(32)(\"AJT85.AKT.K63.K8\")\n",
    "A = binary.get_auction_binary(n_steps, auction, nesw_i, hand, vuln, ns, ew)\n",
    "print(A)\n"
   ]
  },
  {
   "cell_type": "code",
   "execution_count": 3,
   "metadata": {},
   "outputs": [
    {
     "name": "stdout",
     "output_type": "stream",
     "text": [
      "1/1 [==============================] - 1s 1s/step\n",
      "[[[-0.32837248 -0.5116618  -0.54694766]]]\n",
      "[[[ 0.08129565  0.2540605   0.27706254 -0.57342     0.06791693\n",
      "    0.23926863  0.24929005 -0.47755498 -0.82254684 -0.67536217\n",
      "   -0.22108601  1.9178935 ]]]\n",
      "c_hcp:[[8.68651  7.953353 7.812209]]\n",
      "c_shp:[[3.3922675 3.6946058 3.7348595 2.246515  3.3688545 3.66872   3.6862576\n",
      "  2.4142787 1.8105431 2.0681162 2.8630996 6.6063137]]\n"
     ]
    }
   ],
   "source": [
    "p_hcp, p_shp = binfo.model(A)\n",
    "print(p_hcp)\n",
    "print(p_shp)\n",
    "p_hcp = p_hcp.reshape((-1, n_steps, 3))[:, -1, :]\n",
    "p_shp = p_shp.reshape((-1, n_steps, 12))[:, -1, :]\n",
    "\n",
    "def f_trans_hcp(x): return 4 * x + 10\n",
    "def f_trans_shp(x): return 1.75 * x + 3.25\n",
    "\n",
    "p_hcp = f_trans_hcp(p_hcp)\n",
    "p_shp = f_trans_shp(p_shp)\n",
    "\n",
    "c_hcp = p_hcp.copy()\n",
    "c_shp = p_shp.copy()\n",
    "\n",
    "print(f\"c_hcp:{c_hcp}\")\n",
    "print(f\"c_shp:{c_shp}\")\n",
    "\n",
    "\n"
   ]
  },
  {
   "cell_type": "code",
   "execution_count": 4,
   "metadata": {},
   "outputs": [
    {
     "name": "stdout",
     "output_type": "stream",
     "text": [
      "1/1 [==============================] - 0s 23ms/step\n",
      "[[[ 8.237265 14.248348  9.283164]]]\n"
     ]
    }
   ],
   "source": [
    "auction = ['PAD_START', '2C','4N']\n",
    "n_steps = 1 + len(auction) // 4\n",
    "n_samples = 10\n",
    "ns = -1\n",
    "ew = -1\n",
    "nesw_i = 3\n",
    "vuln = [True, False]\n",
    "hand = binary.parse_hand_f(32)(\"AJT8653.J.962.92\")\n",
    "A = binary.get_auction_binary(n_steps, auction, nesw_i, hand, vuln, ns, ew)\n",
    "p_hcp, p_shp = binfo.model(A)\n",
    "c_hcp = (lambda x: 4 * x + 10)(p_hcp.copy())\n",
    "print(c_hcp)\n"
   ]
  },
  {
   "cell_type": "code",
   "execution_count": 5,
   "metadata": {},
   "outputs": [
    {
     "name": "stdout",
     "output_type": "stream",
     "text": [
      "1/1 [==============================] - 1s 1s/step\n",
      "[[[12.657282  16.3292     5.673679 ]\n",
      "  [13.692372  15.455392   6.6313396]]]\n"
     ]
    }
   ],
   "source": [
    "auction = ['PAD_START', '2C','4N','PASS']\n",
    "n_steps = 1 + len(auction) // 4\n",
    "n_samples = 10\n",
    "ns = -1\n",
    "ew = -1\n",
    "nesw_i = 0\n",
    "vuln = [True, False]\n",
    "hand = binary.parse_hand_f(32)(\"K4.T9876532.54.6\")\n",
    "A = binary.get_auction_binary(n_steps, auction, nesw_i, hand, vuln, ns, ew)\n",
    "p_hcp, p_shp = binfo.model(A)\n",
    "c_hcp = (lambda x: 4 * x + 10)(p_hcp.copy())\n",
    "print(c_hcp)\n"
   ]
  },
  {
   "cell_type": "code",
   "execution_count": 6,
   "metadata": {},
   "outputs": [
    {
     "name": "stdout",
     "output_type": "stream",
     "text": [
      "1/1 [==============================] - 0s 20ms/step\n",
      "[[[11.959903 11.428694 11.307681]]]\n"
     ]
    }
   ],
   "source": [
    "auction = ['1N']\n",
    "n_steps = 1 + len(auction) // 4\n",
    "n_samples = 10\n",
    "ns = -1\n",
    "ew = -1\n",
    "nesw_i = 0\n",
    "vuln = [True, False]\n",
    "hand = binary.parse_hand_f(32)(\"K4.T9876532.54.6\")\n",
    "A = binary.get_auction_binary(n_steps, auction, nesw_i, hand, vuln, ns, ew)\n",
    "p_hcp, p_shp = binfo.model(A)\n",
    "c_hcp = (lambda x: 4 * x + 10)(p_hcp.copy())\n",
    "print(c_hcp)\n"
   ]
  }
 ],
 "metadata": {
  "kernelspec": {
   "display_name": "Python 3",
   "language": "python",
   "name": "python3"
  },
  "language_info": {
   "codemirror_mode": {
    "name": "ipython",
    "version": 3
   },
   "file_extension": ".py",
   "mimetype": "text/x-python",
   "name": "python",
   "nbconvert_exporter": "python",
   "pygments_lexer": "ipython3",
   "version": "3.11.0"
  },
  "orig_nbformat": 4
 },
 "nbformat": 4,
 "nbformat_minor": 2
}
