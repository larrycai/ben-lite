{
 "cells": [
  {
   "cell_type": "code",
   "execution_count": 1,
   "metadata": {},
   "outputs": [
    {
     "name": "stdout",
     "output_type": "stream",
     "text": [
      "INFO:tensorflow:Restoring parameters from ../scripts/training/bidding_info/model/binfo-51000\n"
     ]
    }
   ],
   "source": [
    "import os\n",
    "os.chdir('..')\n",
    "\n",
    "from util import hand_to_str\n",
    "from deck52 import random_deal\n",
    "import binary\n",
    "\n",
    "from nn.bid_info import BidInfo\n",
    "\n",
    "binfo = BidInfo('../scripts/training/bidding_info/model/binfo-51000')\n"
   ]
  },
  {
   "cell_type": "code",
   "execution_count": 2,
   "metadata": {},
   "outputs": [],
   "source": [
    "auction = ['4C']\n",
    "n_steps = 1 + (len(auction)-1) // 4\n",
    "ns = -1\n",
    "ew = -1\n",
    "nesw_i = 1\n",
    "vuln = [True, False]\n",
    "hand = binary.parse_hand_f(32)(\"AJT85.AKT.K63.K8\")\n",
    "A = binary.get_auction_binary(n_steps, auction, nesw_i, hand, vuln, ns, ew)\n"
   ]
  },
  {
   "cell_type": "code",
   "execution_count": 3,
   "metadata": {},
   "outputs": [
    {
     "name": "stdout",
     "output_type": "stream",
     "text": [
      "c_hcp:[[7.1452055 6.60819   7.750942 ]]\n",
      "c_shp:[[3.0072935 4.0193367 3.8959231 1.9485438 3.3278406 3.8327937 3.811037\n",
      "  2.042756  1.9822656 2.2641473 2.1918073 6.620554 ]]\n"
     ]
    }
   ],
   "source": [
    "p_hcp, p_shp = binfo.model(A)\n",
    "p_hcp = p_hcp.reshape((-1, n_steps, 3))[:, -1, :]\n",
    "p_shp = p_shp.reshape((-1, n_steps, 12))[:, -1, :]\n",
    "\n",
    "def f_trans_hcp(x): return 4 * x + 10\n",
    "def f_trans_shp(x): return 1.75 * x + 3.25\n",
    "\n",
    "p_hcp = f_trans_hcp(p_hcp)\n",
    "p_shp = f_trans_shp(p_shp)\n",
    "\n",
    "c_hcp = p_hcp.copy()\n",
    "c_shp = p_shp.copy()\n",
    "\n",
    "print(f\"c_hcp:{c_hcp}\")\n",
    "print(f\"c_shp:{c_shp}\")\n"
   ]
  },
  {
   "cell_type": "code",
   "execution_count": 4,
   "metadata": {},
   "outputs": [
    {
     "name": "stdout",
     "output_type": "stream",
     "text": [
      "[[ 6.7329454 13.4547615 14.350583 ]]\n"
     ]
    }
   ],
   "source": [
    "auction = ['PAD_START', '2C','4N']\n",
    "n_steps = 1 + len(auction) // 4\n",
    "n_samples = 10\n",
    "ns = -1\n",
    "ew = -1\n",
    "nesw_i = 3\n",
    "vuln = [True, False]\n",
    "hand = binary.parse_hand_f(32)(\"AJT8653.J.962.92\")\n",
    "A = binary.get_auction_binary(n_steps, auction, nesw_i, hand, vuln, ns, ew)\n",
    "p_hcp, p_shp = binfo.model(A)\n",
    "c_hcp = (lambda x: 4 * x + 10)(p_hcp.copy())\n",
    "print(c_hcp)\n"
   ]
  },
  {
   "cell_type": "code",
   "execution_count": 5,
   "metadata": {},
   "outputs": [
    {
     "name": "stdout",
     "output_type": "stream",
     "text": [
      "[[16.387121  14.462275   5.316929 ]\n",
      " [16.921743  15.175928   4.2989645]]\n"
     ]
    }
   ],
   "source": [
    "auction = ['PAD_START', '2C','4N','PASS']\n",
    "n_steps = 1 + len(auction) // 4\n",
    "n_samples = 10\n",
    "ns = -1\n",
    "ew = -1\n",
    "nesw_i = 0\n",
    "vuln = [True, False]\n",
    "hand = binary.parse_hand_f(32)(\"K4.T9876532.54.6\")\n",
    "A = binary.get_auction_binary(n_steps, auction, nesw_i, hand, vuln, ns, ew)\n",
    "p_hcp, p_shp = binfo.model(A)\n",
    "c_hcp = (lambda x: 4 * x + 10)(p_hcp.copy())\n",
    "print(c_hcp)\n"
   ]
  }
 ],
 "metadata": {
  "kernelspec": {
   "display_name": "Python 3",
   "language": "python",
   "name": "python3"
  },
  "language_info": {
   "codemirror_mode": {
    "name": "ipython",
    "version": 3
   },
   "file_extension": ".py",
   "mimetype": "text/x-python",
   "name": "python",
   "nbconvert_exporter": "python",
   "pygments_lexer": "ipython3",
   "version": "3.11.0"
  },
  "orig_nbformat": 4
 },
 "nbformat": 4,
 "nbformat_minor": 2
}
