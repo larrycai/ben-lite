{
 "cells": [
  {
   "cell_type": "markdown",
   "id": "a9fc83f4-6ac3-40ca-8894-299136dc752a",
   "metadata": {},
   "source": [
    "# Introduction\n",
    "\n",
    "This is the demo how to use AI Bridge [Ben](https://github.com/lorserker/ben) and [redeal](https://github.com/anntzer/redeal) for leading \n",
    "\n",
    "* http://www.rpbridge.net/4g00.htm\n",
    "* book [Winning Notrump Leads](https://www.amazon.com/Winning-Notrump-Leads-David-Bird/dp/1554947596)"
   ]
  },
  {
   "cell_type": "markdown",
   "id": "0a58c5ef-b9bf-4412-a9b1-dc0930b47fa8",
   "metadata": {},
   "source": [
    "# Preparation\n",
    "\n",
    "both needs [dds](https://github.com/dds-bridge/dds) library, here gives the hacked solution without recompiling, it depends on your environment\n",
    "\n",
    "Choose right section to check and execute!"
   ]
  },
  {
   "cell_type": "markdown",
   "id": "c348de8d-5932-47b0-b547-c89e1dd14876",
   "metadata": {},
   "source": [
    "## Jupyter notebook (without sudo) - ubuntu jammy\n",
    "\n",
    "You can test it the env by running \n",
    "\n",
    "````\n",
    "$ cat /etc/os-release \n",
    "PRETTY_NAME=\"Ubuntu 22.04.3 LTS\"\n",
    "NAME=\"Ubuntu\"\n",
    "VERSION_ID=\"22.04\"\n",
    "VERSION=\"22.04.3 LTS (Jammy Jellyfish)\"\n",
    "````"
   ]
  },
  {
   "cell_type": "code",
   "execution_count": 18,
   "id": "0f9b3dfc-4740-44ca-ae50-f786a6cf9884",
   "metadata": {
    "tags": []
   },
   "outputs": [
    {
     "name": "stdout",
     "output_type": "stream",
     "text": [
      "Collecting git+https://github.com/larrycai/ben-lite\n",
      "  Cloning https://github.com/larrycai/ben-lite to /tmp/pip-req-build-dd5ctfav\n",
      "  Running command git clone --filter=blob:none --quiet https://github.com/larrycai/ben-lite /tmp/pip-req-build-dd5ctfav\n",
      "  Resolved https://github.com/larrycai/ben-lite to commit e4a11262a46c3b1f6a6427b5e4ab949fc046abbc\n",
      "  Installing build dependencies ... \u001b[?25ldone\n",
      "\u001b[?25h  Getting requirements to build wheel ... \u001b[?25ldone\n",
      "\u001b[?25h  Installing backend dependencies ... \u001b[?25ldone\n",
      "\u001b[?25h  Preparing metadata (pyproject.toml) ... \u001b[?25ldone\n",
      "\u001b[?25hRequirement already satisfied: numpy in /opt/conda/lib/python3.11/site-packages (from ben==0.2.1) (1.24.3)\n",
      "Requirement already satisfied: scipy in /opt/conda/lib/python3.11/site-packages (from ben==0.2.1) (1.11.3)\n",
      "Requirement already satisfied: matplotlib in /opt/conda/lib/python3.11/site-packages (from ben==0.2.1) (3.8.0)\n",
      "Requirement already satisfied: jupyter in /opt/conda/lib/python3.11/site-packages (from ben==0.2.1) (1.0.0)\n",
      "Requirement already satisfied: scikit-learn in /opt/conda/lib/python3.11/site-packages (from ben==0.2.1) (1.3.1)\n",
      "Requirement already satisfied: tqdm in /opt/conda/lib/python3.11/site-packages (from ben==0.2.1) (4.66.1)\n",
      "Requirement already satisfied: websockets in /opt/conda/lib/python3.11/site-packages (from ben==0.2.1) (12.0)\n",
      "Requirement already satisfied: tensorflow in /opt/conda/lib/python3.11/site-packages (from ben==0.2.1) (2.13.1)\n",
      "Requirement already satisfied: grpcio-tools in /opt/conda/lib/python3.11/site-packages (from ben==0.2.1) (1.59.2)\n",
      "Requirement already satisfied: bottle in /opt/conda/lib/python3.11/site-packages (from ben==0.2.1) (0.12.25)\n",
      "Requirement already satisfied: gevent in /opt/conda/lib/python3.11/site-packages (from ben==0.2.1) (23.9.1)\n",
      "Requirement already satisfied: pythonnet in /opt/conda/lib/python3.11/site-packages (from ben==0.2.1) (3.0.3)\n",
      "Requirement already satisfied: zope.event in /opt/conda/lib/python3.11/site-packages (from gevent->ben==0.2.1) (5.0)\n",
      "Requirement already satisfied: zope.interface in /opt/conda/lib/python3.11/site-packages (from gevent->ben==0.2.1) (6.1)\n",
      "Requirement already satisfied: greenlet>=3.0rc3 in /opt/conda/lib/python3.11/site-packages (from gevent->ben==0.2.1) (3.0.1)\n",
      "Requirement already satisfied: protobuf<5.0dev,>=4.21.6 in /opt/conda/lib/python3.11/site-packages (from grpcio-tools->ben==0.2.1) (4.25.0)\n",
      "Requirement already satisfied: grpcio>=1.59.2 in /opt/conda/lib/python3.11/site-packages (from grpcio-tools->ben==0.2.1) (1.59.2)\n",
      "Requirement already satisfied: setuptools in /opt/conda/lib/python3.11/site-packages (from grpcio-tools->ben==0.2.1) (68.2.2)\n",
      "Requirement already satisfied: notebook in /opt/conda/lib/python3.11/site-packages (from jupyter->ben==0.2.1) (6.5.6)\n",
      "Requirement already satisfied: qtconsole in /opt/conda/lib/python3.11/site-packages (from jupyter->ben==0.2.1) (5.5.0)\n",
      "Requirement already satisfied: jupyter-console in /opt/conda/lib/python3.11/site-packages (from jupyter->ben==0.2.1) (6.6.3)\n",
      "Requirement already satisfied: nbconvert in /opt/conda/lib/python3.11/site-packages (from jupyter->ben==0.2.1) (7.10.0)\n",
      "Requirement already satisfied: ipykernel in /opt/conda/lib/python3.11/site-packages (from jupyter->ben==0.2.1) (6.26.0)\n",
      "Requirement already satisfied: ipywidgets in /opt/conda/lib/python3.11/site-packages (from jupyter->ben==0.2.1) (8.1.1)\n",
      "Requirement already satisfied: contourpy>=1.0.1 in /opt/conda/lib/python3.11/site-packages (from matplotlib->ben==0.2.1) (1.1.1)\n",
      "Requirement already satisfied: cycler>=0.10 in /opt/conda/lib/python3.11/site-packages (from matplotlib->ben==0.2.1) (0.12.1)\n",
      "Requirement already satisfied: fonttools>=4.22.0 in /opt/conda/lib/python3.11/site-packages (from matplotlib->ben==0.2.1) (4.43.1)\n",
      "Requirement already satisfied: kiwisolver>=1.0.1 in /opt/conda/lib/python3.11/site-packages (from matplotlib->ben==0.2.1) (1.4.5)\n",
      "Requirement already satisfied: packaging>=20.0 in /opt/conda/lib/python3.11/site-packages (from matplotlib->ben==0.2.1) (23.2)\n",
      "Requirement already satisfied: pillow>=6.2.0 in /opt/conda/lib/python3.11/site-packages (from matplotlib->ben==0.2.1) (10.1.0)\n",
      "Requirement already satisfied: pyparsing>=2.3.1 in /opt/conda/lib/python3.11/site-packages (from matplotlib->ben==0.2.1) (3.1.1)\n",
      "Requirement already satisfied: python-dateutil>=2.7 in /opt/conda/lib/python3.11/site-packages (from matplotlib->ben==0.2.1) (2.8.2)\n",
      "Requirement already satisfied: clr-loader<0.3.0,>=0.2.6 in /opt/conda/lib/python3.11/site-packages (from pythonnet->ben==0.2.1) (0.2.6)\n",
      "Requirement already satisfied: joblib>=1.1.1 in /opt/conda/lib/python3.11/site-packages (from scikit-learn->ben==0.2.1) (1.3.2)\n",
      "Requirement already satisfied: threadpoolctl>=2.0.0 in /opt/conda/lib/python3.11/site-packages (from scikit-learn->ben==0.2.1) (3.2.0)\n",
      "Requirement already satisfied: absl-py>=1.0.0 in /opt/conda/lib/python3.11/site-packages (from tensorflow->ben==0.2.1) (2.0.0)\n",
      "Requirement already satisfied: astunparse>=1.6.0 in /opt/conda/lib/python3.11/site-packages (from tensorflow->ben==0.2.1) (1.6.3)\n",
      "Requirement already satisfied: flatbuffers>=23.1.21 in /opt/conda/lib/python3.11/site-packages (from tensorflow->ben==0.2.1) (23.5.26)\n",
      "Requirement already satisfied: gast<=0.4.0,>=0.2.1 in /opt/conda/lib/python3.11/site-packages (from tensorflow->ben==0.2.1) (0.4.0)\n",
      "Requirement already satisfied: google-pasta>=0.1.1 in /opt/conda/lib/python3.11/site-packages (from tensorflow->ben==0.2.1) (0.2.0)\n",
      "Requirement already satisfied: h5py>=2.9.0 in /opt/conda/lib/python3.11/site-packages (from tensorflow->ben==0.2.1) (3.10.0)\n",
      "Requirement already satisfied: keras<2.14,>=2.13.1 in /opt/conda/lib/python3.11/site-packages (from tensorflow->ben==0.2.1) (2.13.1)\n",
      "Requirement already satisfied: libclang>=13.0.0 in /opt/conda/lib/python3.11/site-packages (from tensorflow->ben==0.2.1) (16.0.6)\n",
      "Requirement already satisfied: opt-einsum>=2.3.2 in /opt/conda/lib/python3.11/site-packages (from tensorflow->ben==0.2.1) (3.3.0)\n",
      "Requirement already satisfied: six>=1.12.0 in /opt/conda/lib/python3.11/site-packages (from tensorflow->ben==0.2.1) (1.16.0)\n",
      "Requirement already satisfied: tensorboard<2.14,>=2.13 in /opt/conda/lib/python3.11/site-packages (from tensorflow->ben==0.2.1) (2.13.0)\n",
      "Requirement already satisfied: tensorflow-estimator<2.14,>=2.13.0 in /opt/conda/lib/python3.11/site-packages (from tensorflow->ben==0.2.1) (2.13.0)\n",
      "Requirement already satisfied: termcolor>=1.1.0 in /opt/conda/lib/python3.11/site-packages (from tensorflow->ben==0.2.1) (2.3.0)\n",
      "Requirement already satisfied: typing-extensions<4.6.0,>=3.6.6 in /opt/conda/lib/python3.11/site-packages (from tensorflow->ben==0.2.1) (4.5.0)\n",
      "Requirement already satisfied: wrapt>=1.11.0 in /opt/conda/lib/python3.11/site-packages (from tensorflow->ben==0.2.1) (1.15.0)\n",
      "Requirement already satisfied: tensorflow-io-gcs-filesystem>=0.23.1 in /opt/conda/lib/python3.11/site-packages (from tensorflow->ben==0.2.1) (0.34.0)\n",
      "Requirement already satisfied: wheel<1.0,>=0.23.0 in /opt/conda/lib/python3.11/site-packages (from astunparse>=1.6.0->tensorflow->ben==0.2.1) (0.41.3)\n",
      "Requirement already satisfied: cffi>=1.13 in /opt/conda/lib/python3.11/site-packages (from clr-loader<0.3.0,>=0.2.6->pythonnet->ben==0.2.1) (1.16.0)\n",
      "Requirement already satisfied: google-auth<3,>=1.6.3 in /opt/conda/lib/python3.11/site-packages (from tensorboard<2.14,>=2.13->tensorflow->ben==0.2.1) (2.23.4)\n",
      "Requirement already satisfied: google-auth-oauthlib<1.1,>=0.5 in /opt/conda/lib/python3.11/site-packages (from tensorboard<2.14,>=2.13->tensorflow->ben==0.2.1) (1.0.0)\n",
      "Requirement already satisfied: markdown>=2.6.8 in /opt/conda/lib/python3.11/site-packages (from tensorboard<2.14,>=2.13->tensorflow->ben==0.2.1) (3.5.1)\n",
      "Requirement already satisfied: requests<3,>=2.21.0 in /opt/conda/lib/python3.11/site-packages (from tensorboard<2.14,>=2.13->tensorflow->ben==0.2.1) (2.31.0)\n",
      "Requirement already satisfied: tensorboard-data-server<0.8.0,>=0.7.0 in /opt/conda/lib/python3.11/site-packages (from tensorboard<2.14,>=2.13->tensorflow->ben==0.2.1) (0.7.2)\n",
      "Requirement already satisfied: werkzeug>=1.0.1 in /opt/conda/lib/python3.11/site-packages (from tensorboard<2.14,>=2.13->tensorflow->ben==0.2.1) (3.0.1)\n",
      "Requirement already satisfied: comm>=0.1.1 in /opt/conda/lib/python3.11/site-packages (from ipykernel->jupyter->ben==0.2.1) (0.1.4)\n",
      "Requirement already satisfied: debugpy>=1.6.5 in /opt/conda/lib/python3.11/site-packages (from ipykernel->jupyter->ben==0.2.1) (1.8.0)\n",
      "Requirement already satisfied: ipython>=7.23.1 in /opt/conda/lib/python3.11/site-packages (from ipykernel->jupyter->ben==0.2.1) (8.16.1)\n",
      "Requirement already satisfied: jupyter-client>=6.1.12 in /opt/conda/lib/python3.11/site-packages (from ipykernel->jupyter->ben==0.2.1) (7.4.9)\n",
      "Requirement already satisfied: jupyter-core!=5.0.*,>=4.12 in /opt/conda/lib/python3.11/site-packages (from ipykernel->jupyter->ben==0.2.1) (5.5.0)\n",
      "Requirement already satisfied: matplotlib-inline>=0.1 in /opt/conda/lib/python3.11/site-packages (from ipykernel->jupyter->ben==0.2.1) (0.1.6)\n",
      "Requirement already satisfied: nest-asyncio in /opt/conda/lib/python3.11/site-packages (from ipykernel->jupyter->ben==0.2.1) (1.5.8)\n",
      "Requirement already satisfied: psutil in /opt/conda/lib/python3.11/site-packages (from ipykernel->jupyter->ben==0.2.1) (5.9.5)\n",
      "Requirement already satisfied: pyzmq>=20 in /opt/conda/lib/python3.11/site-packages (from ipykernel->jupyter->ben==0.2.1) (24.0.1)\n",
      "Requirement already satisfied: tornado>=6.1 in /opt/conda/lib/python3.11/site-packages (from ipykernel->jupyter->ben==0.2.1) (6.3.3)\n",
      "Requirement already satisfied: traitlets>=5.4.0 in /opt/conda/lib/python3.11/site-packages (from ipykernel->jupyter->ben==0.2.1) (5.13.0)\n",
      "Requirement already satisfied: widgetsnbextension~=4.0.9 in /opt/conda/lib/python3.11/site-packages (from ipywidgets->jupyter->ben==0.2.1) (4.0.9)\n",
      "Requirement already satisfied: jupyterlab-widgets~=3.0.9 in /opt/conda/lib/python3.11/site-packages (from ipywidgets->jupyter->ben==0.2.1) (3.0.9)\n",
      "Requirement already satisfied: prompt-toolkit>=3.0.30 in /opt/conda/lib/python3.11/site-packages (from jupyter-console->jupyter->ben==0.2.1) (3.0.39)\n",
      "Requirement already satisfied: pygments in /opt/conda/lib/python3.11/site-packages (from jupyter-console->jupyter->ben==0.2.1) (2.16.1)\n",
      "Requirement already satisfied: beautifulsoup4 in /opt/conda/lib/python3.11/site-packages (from nbconvert->jupyter->ben==0.2.1) (4.12.2)\n",
      "Requirement already satisfied: bleach!=5.0.0 in /opt/conda/lib/python3.11/site-packages (from nbconvert->jupyter->ben==0.2.1) (6.1.0)\n",
      "Requirement already satisfied: defusedxml in /opt/conda/lib/python3.11/site-packages (from nbconvert->jupyter->ben==0.2.1) (0.7.1)\n",
      "Requirement already satisfied: jinja2>=3.0 in /opt/conda/lib/python3.11/site-packages (from nbconvert->jupyter->ben==0.2.1) (3.1.2)\n",
      "Requirement already satisfied: jupyterlab-pygments in /opt/conda/lib/python3.11/site-packages (from nbconvert->jupyter->ben==0.2.1) (0.2.2)\n",
      "Requirement already satisfied: markupsafe>=2.0 in /opt/conda/lib/python3.11/site-packages (from nbconvert->jupyter->ben==0.2.1) (2.1.3)\n",
      "Requirement already satisfied: mistune<4,>=2.0.3 in /opt/conda/lib/python3.11/site-packages (from nbconvert->jupyter->ben==0.2.1) (3.0.1)\n",
      "Requirement already satisfied: nbclient>=0.5.0 in /opt/conda/lib/python3.11/site-packages (from nbconvert->jupyter->ben==0.2.1) (0.8.0)\n",
      "Requirement already satisfied: nbformat>=5.7 in /opt/conda/lib/python3.11/site-packages (from nbconvert->jupyter->ben==0.2.1) (5.9.2)\n",
      "Requirement already satisfied: pandocfilters>=1.4.1 in /opt/conda/lib/python3.11/site-packages (from nbconvert->jupyter->ben==0.2.1) (1.5.0)\n",
      "Requirement already satisfied: tinycss2 in /opt/conda/lib/python3.11/site-packages (from nbconvert->jupyter->ben==0.2.1) (1.2.1)\n",
      "Requirement already satisfied: argon2-cffi in /opt/conda/lib/python3.11/site-packages (from notebook->jupyter->ben==0.2.1) (23.1.0)\n",
      "Requirement already satisfied: ipython-genutils in /opt/conda/lib/python3.11/site-packages (from notebook->jupyter->ben==0.2.1) (0.2.0)\n",
      "Requirement already satisfied: Send2Trash>=1.8.0 in /opt/conda/lib/python3.11/site-packages (from notebook->jupyter->ben==0.2.1) (1.8.2)\n",
      "Requirement already satisfied: terminado>=0.8.3 in /opt/conda/lib/python3.11/site-packages (from notebook->jupyter->ben==0.2.1) (0.17.1)\n",
      "Requirement already satisfied: prometheus-client in /opt/conda/lib/python3.11/site-packages (from notebook->jupyter->ben==0.2.1) (0.18.0)\n",
      "Requirement already satisfied: nbclassic>=0.4.7 in /opt/conda/lib/python3.11/site-packages (from notebook->jupyter->ben==0.2.1) (1.0.0)\n",
      "Requirement already satisfied: qtpy>=2.4.0 in /opt/conda/lib/python3.11/site-packages (from qtconsole->jupyter->ben==0.2.1) (2.4.1)\n",
      "Requirement already satisfied: webencodings in /opt/conda/lib/python3.11/site-packages (from bleach!=5.0.0->nbconvert->jupyter->ben==0.2.1) (0.5.1)\n",
      "Requirement already satisfied: pycparser in /opt/conda/lib/python3.11/site-packages (from cffi>=1.13->clr-loader<0.3.0,>=0.2.6->pythonnet->ben==0.2.1) (2.21)\n",
      "Requirement already satisfied: cachetools<6.0,>=2.0.0 in /opt/conda/lib/python3.11/site-packages (from google-auth<3,>=1.6.3->tensorboard<2.14,>=2.13->tensorflow->ben==0.2.1) (5.3.2)\n",
      "Requirement already satisfied: pyasn1-modules>=0.2.1 in /opt/conda/lib/python3.11/site-packages (from google-auth<3,>=1.6.3->tensorboard<2.14,>=2.13->tensorflow->ben==0.2.1) (0.3.0)\n",
      "Requirement already satisfied: rsa<5,>=3.1.4 in /opt/conda/lib/python3.11/site-packages (from google-auth<3,>=1.6.3->tensorboard<2.14,>=2.13->tensorflow->ben==0.2.1) (4.9)\n",
      "Requirement already satisfied: requests-oauthlib>=0.7.0 in /opt/conda/lib/python3.11/site-packages (from google-auth-oauthlib<1.1,>=0.5->tensorboard<2.14,>=2.13->tensorflow->ben==0.2.1) (1.3.1)\n",
      "Requirement already satisfied: backcall in /opt/conda/lib/python3.11/site-packages (from ipython>=7.23.1->ipykernel->jupyter->ben==0.2.1) (0.2.0)\n",
      "Requirement already satisfied: decorator in /opt/conda/lib/python3.11/site-packages (from ipython>=7.23.1->ipykernel->jupyter->ben==0.2.1) (5.1.1)\n",
      "Requirement already satisfied: jedi>=0.16 in /opt/conda/lib/python3.11/site-packages (from ipython>=7.23.1->ipykernel->jupyter->ben==0.2.1) (0.19.1)\n",
      "Requirement already satisfied: pickleshare in /opt/conda/lib/python3.11/site-packages (from ipython>=7.23.1->ipykernel->jupyter->ben==0.2.1) (0.7.5)\n",
      "Requirement already satisfied: stack-data in /opt/conda/lib/python3.11/site-packages (from ipython>=7.23.1->ipykernel->jupyter->ben==0.2.1) (0.6.2)\n",
      "Requirement already satisfied: pexpect>4.3 in /opt/conda/lib/python3.11/site-packages (from ipython>=7.23.1->ipykernel->jupyter->ben==0.2.1) (4.8.0)\n",
      "Requirement already satisfied: entrypoints in /opt/conda/lib/python3.11/site-packages (from jupyter-client>=6.1.12->ipykernel->jupyter->ben==0.2.1) (0.4)\n",
      "Requirement already satisfied: platformdirs>=2.5 in /opt/conda/lib/python3.11/site-packages (from jupyter-core!=5.0.*,>=4.12->ipykernel->jupyter->ben==0.2.1) (3.11.0)\n",
      "Requirement already satisfied: jupyter-server>=1.8 in /opt/conda/lib/python3.11/site-packages (from nbclassic>=0.4.7->notebook->jupyter->ben==0.2.1) (2.9.1)\n",
      "Requirement already satisfied: notebook-shim>=0.2.3 in /opt/conda/lib/python3.11/site-packages (from nbclassic>=0.4.7->notebook->jupyter->ben==0.2.1) (0.2.3)\n",
      "Requirement already satisfied: fastjsonschema in /opt/conda/lib/python3.11/site-packages (from nbformat>=5.7->nbconvert->jupyter->ben==0.2.1) (2.18.1)\n",
      "Requirement already satisfied: jsonschema>=2.6 in /opt/conda/lib/python3.11/site-packages (from nbformat>=5.7->nbconvert->jupyter->ben==0.2.1) (4.19.2)\n",
      "Requirement already satisfied: wcwidth in /opt/conda/lib/python3.11/site-packages (from prompt-toolkit>=3.0.30->jupyter-console->jupyter->ben==0.2.1) (0.2.9)\n",
      "Requirement already satisfied: charset-normalizer<4,>=2 in /opt/conda/lib/python3.11/site-packages (from requests<3,>=2.21.0->tensorboard<2.14,>=2.13->tensorflow->ben==0.2.1) (3.3.1)\n",
      "Requirement already satisfied: idna<4,>=2.5 in /opt/conda/lib/python3.11/site-packages (from requests<3,>=2.21.0->tensorboard<2.14,>=2.13->tensorflow->ben==0.2.1) (3.4)\n",
      "Requirement already satisfied: urllib3<3,>=1.21.1 in /opt/conda/lib/python3.11/site-packages (from requests<3,>=2.21.0->tensorboard<2.14,>=2.13->tensorflow->ben==0.2.1) (1.26.18)\n",
      "Requirement already satisfied: certifi>=2017.4.17 in /opt/conda/lib/python3.11/site-packages (from requests<3,>=2.21.0->tensorboard<2.14,>=2.13->tensorflow->ben==0.2.1) (2023.7.22)\n",
      "Requirement already satisfied: ptyprocess in /opt/conda/lib/python3.11/site-packages (from terminado>=0.8.3->notebook->jupyter->ben==0.2.1) (0.7.0)\n",
      "Requirement already satisfied: argon2-cffi-bindings in /opt/conda/lib/python3.11/site-packages (from argon2-cffi->notebook->jupyter->ben==0.2.1) (21.2.0)\n",
      "Requirement already satisfied: soupsieve>1.2 in /opt/conda/lib/python3.11/site-packages (from beautifulsoup4->nbconvert->jupyter->ben==0.2.1) (2.5)\n",
      "Requirement already satisfied: parso<0.9.0,>=0.8.3 in /opt/conda/lib/python3.11/site-packages (from jedi>=0.16->ipython>=7.23.1->ipykernel->jupyter->ben==0.2.1) (0.8.3)\n",
      "Requirement already satisfied: attrs>=22.2.0 in /opt/conda/lib/python3.11/site-packages (from jsonschema>=2.6->nbformat>=5.7->nbconvert->jupyter->ben==0.2.1) (23.1.0)\n",
      "Requirement already satisfied: jsonschema-specifications>=2023.03.6 in /opt/conda/lib/python3.11/site-packages (from jsonschema>=2.6->nbformat>=5.7->nbconvert->jupyter->ben==0.2.1) (2023.7.1)\n",
      "Requirement already satisfied: referencing>=0.28.4 in /opt/conda/lib/python3.11/site-packages (from jsonschema>=2.6->nbformat>=5.7->nbconvert->jupyter->ben==0.2.1) (0.30.2)\n",
      "Requirement already satisfied: rpds-py>=0.7.1 in /opt/conda/lib/python3.11/site-packages (from jsonschema>=2.6->nbformat>=5.7->nbconvert->jupyter->ben==0.2.1) (0.10.6)\n",
      "Requirement already satisfied: anyio>=3.1.0 in /opt/conda/lib/python3.11/site-packages (from jupyter-server>=1.8->nbclassic>=0.4.7->notebook->jupyter->ben==0.2.1) (4.0.0)\n",
      "Requirement already satisfied: jupyter-events>=0.6.0 in /opt/conda/lib/python3.11/site-packages (from jupyter-server>=1.8->nbclassic>=0.4.7->notebook->jupyter->ben==0.2.1) (0.8.0)\n",
      "Requirement already satisfied: jupyter-server-terminals in /opt/conda/lib/python3.11/site-packages (from jupyter-server>=1.8->nbclassic>=0.4.7->notebook->jupyter->ben==0.2.1) (0.4.4)\n",
      "Requirement already satisfied: overrides in /opt/conda/lib/python3.11/site-packages (from jupyter-server>=1.8->nbclassic>=0.4.7->notebook->jupyter->ben==0.2.1) (7.4.0)\n",
      "Requirement already satisfied: websocket-client in /opt/conda/lib/python3.11/site-packages (from jupyter-server>=1.8->nbclassic>=0.4.7->notebook->jupyter->ben==0.2.1) (1.6.4)\n",
      "Requirement already satisfied: pyasn1<0.6.0,>=0.4.6 in /opt/conda/lib/python3.11/site-packages (from pyasn1-modules>=0.2.1->google-auth<3,>=1.6.3->tensorboard<2.14,>=2.13->tensorflow->ben==0.2.1) (0.5.0)\n",
      "Requirement already satisfied: oauthlib>=3.0.0 in /opt/conda/lib/python3.11/site-packages (from requests-oauthlib>=0.7.0->google-auth-oauthlib<1.1,>=0.5->tensorboard<2.14,>=2.13->tensorflow->ben==0.2.1) (3.2.2)\n",
      "Requirement already satisfied: executing>=1.2.0 in /opt/conda/lib/python3.11/site-packages (from stack-data->ipython>=7.23.1->ipykernel->jupyter->ben==0.2.1) (2.0.1)\n",
      "Requirement already satisfied: asttokens>=2.1.0 in /opt/conda/lib/python3.11/site-packages (from stack-data->ipython>=7.23.1->ipykernel->jupyter->ben==0.2.1) (2.4.1)\n",
      "Requirement already satisfied: pure-eval in /opt/conda/lib/python3.11/site-packages (from stack-data->ipython>=7.23.1->ipykernel->jupyter->ben==0.2.1) (0.2.2)\n",
      "Requirement already satisfied: sniffio>=1.1 in /opt/conda/lib/python3.11/site-packages (from anyio>=3.1.0->jupyter-server>=1.8->nbclassic>=0.4.7->notebook->jupyter->ben==0.2.1) (1.3.0)\n",
      "Requirement already satisfied: python-json-logger>=2.0.4 in /opt/conda/lib/python3.11/site-packages (from jupyter-events>=0.6.0->jupyter-server>=1.8->nbclassic>=0.4.7->notebook->jupyter->ben==0.2.1) (2.0.7)\n",
      "Requirement already satisfied: pyyaml>=5.3 in /opt/conda/lib/python3.11/site-packages (from jupyter-events>=0.6.0->jupyter-server>=1.8->nbclassic>=0.4.7->notebook->jupyter->ben==0.2.1) (6.0.1)\n",
      "Requirement already satisfied: rfc3339-validator in /opt/conda/lib/python3.11/site-packages (from jupyter-events>=0.6.0->jupyter-server>=1.8->nbclassic>=0.4.7->notebook->jupyter->ben==0.2.1) (0.1.4)\n",
      "Requirement already satisfied: rfc3986-validator>=0.1.1 in /opt/conda/lib/python3.11/site-packages (from jupyter-events>=0.6.0->jupyter-server>=1.8->nbclassic>=0.4.7->notebook->jupyter->ben==0.2.1) (0.1.1)\n",
      "Requirement already satisfied: fqdn in /opt/conda/lib/python3.11/site-packages (from jsonschema[format-nongpl]>=4.18.0->jupyter-events>=0.6.0->jupyter-server>=1.8->nbclassic>=0.4.7->notebook->jupyter->ben==0.2.1) (1.5.1)\n",
      "Requirement already satisfied: isoduration in /opt/conda/lib/python3.11/site-packages (from jsonschema[format-nongpl]>=4.18.0->jupyter-events>=0.6.0->jupyter-server>=1.8->nbclassic>=0.4.7->notebook->jupyter->ben==0.2.1) (20.11.0)\n",
      "Requirement already satisfied: jsonpointer>1.13 in /opt/conda/lib/python3.11/site-packages (from jsonschema[format-nongpl]>=4.18.0->jupyter-events>=0.6.0->jupyter-server>=1.8->nbclassic>=0.4.7->notebook->jupyter->ben==0.2.1) (2.4)\n",
      "Requirement already satisfied: uri-template in /opt/conda/lib/python3.11/site-packages (from jsonschema[format-nongpl]>=4.18.0->jupyter-events>=0.6.0->jupyter-server>=1.8->nbclassic>=0.4.7->notebook->jupyter->ben==0.2.1) (1.3.0)\n",
      "Requirement already satisfied: webcolors>=1.11 in /opt/conda/lib/python3.11/site-packages (from jsonschema[format-nongpl]>=4.18.0->jupyter-events>=0.6.0->jupyter-server>=1.8->nbclassic>=0.4.7->notebook->jupyter->ben==0.2.1) (1.13)\n",
      "Requirement already satisfied: arrow>=0.15.0 in /opt/conda/lib/python3.11/site-packages (from isoduration->jsonschema[format-nongpl]>=4.18.0->jupyter-events>=0.6.0->jupyter-server>=1.8->nbclassic>=0.4.7->notebook->jupyter->ben==0.2.1) (1.3.0)\n",
      "Requirement already satisfied: types-python-dateutil>=2.8.10 in /opt/conda/lib/python3.11/site-packages (from arrow>=0.15.0->isoduration->jsonschema[format-nongpl]>=4.18.0->jupyter-events>=0.6.0->jupyter-server>=1.8->nbclassic>=0.4.7->notebook->jupyter->ben==0.2.1) (2.8.19.14)\n",
      "Collecting git+https://github.com/larrycai/redeal\n",
      "  Cloning https://github.com/larrycai/redeal to /tmp/pip-req-build-uu14viv5\n",
      "  Running command git clone --filter=blob:none --quiet https://github.com/larrycai/redeal /tmp/pip-req-build-uu14viv5\n",
      "  Resolved https://github.com/larrycai/redeal to commit 7b7dcde2d90a70d06d02f4113e63347ac027eb16\n",
      "  Running command git submodule update --init --recursive -q\n",
      "  Installing build dependencies ... \u001b[?25ldone\n",
      "\u001b[?25h  Getting requirements to build wheel ... \u001b[?25ldone\n",
      "\u001b[?25h  Installing backend dependencies ... \u001b[?25ldone\n",
      "\u001b[?25h  Preparing metadata (pyproject.toml) ... \u001b[?25ldone\n",
      "\u001b[?25hRequirement already satisfied: colorama>=0.2.4 in /opt/conda/lib/python3.11/site-packages (from redeal==0.2.0) (0.4.6)\n",
      "fatal: destination path 'dds-so' already exists and is not an empty directory.\n",
      "Name: redeal\n",
      "Version: 0.2.0\n",
      "Summary: A reimplementation of Thomas Andrews' Deal in Python.\n",
      "Home-page: \n",
      "Author: Antony Lee\n",
      "Author-email: \n",
      "License: Copyright (c) 2012, Antony Lee.\n",
      "\n",
      "Redeal is released under the GNU General Public License v3.0.\n",
      "See the file GPL-3.0.txt for the complete text of the license.\n",
      "\n",
      "The DDS DLLs are from DDS 2.9.0, (c) Bo Haglund 2006-2014, (c) Bo Haglund /\n",
      "Soren Hein 2014-2018.\n",
      "\n",
      "DDS 2.9.0 is released under the Apache License v2.0.\n",
      "See the file dds/Apache-2.0.txt for the complete text of the license.\n",
      "\n",
      "Location: /opt/conda/lib/python3.11/site-packages\n",
      "Requires: colorama\n",
      "Required-by: \n"
     ]
    }
   ],
   "source": [
    "!pip install --upgrade git+https://github.com/larrycai/ben-lite # install ben python package, not released\n",
    "!pip install git+https://github.com/larrycai/redeal # install redeal without dds depend\n"
   ]
  },
  {
   "cell_type": "code",
   "execution_count": null,
   "metadata": {},
   "outputs": [],
   "source": [
    "# check unix environment\n",
    "!cat /etc/os-release\n",
    "!id\n",
    "!pwd\n",
    "!pip show ben"
   ]
  },
  {
   "cell_type": "code",
   "execution_count": null,
   "metadata": {},
   "outputs": [],
   "source": [
    "# if it is ubuntu & root \n",
    "# like https://colab.research.google.com/\n",
    "!apt-get install -y libdds-dev\n",
    "!dpkg -L libdds-dev\n",
    "# check location in pip show ben\n",
    "!cp /usr/lib/x86_64-linux-gnu/libdds.so /usr/local/lib/python3.10/dist-packages/ben"
   ]
  },
  {
   "cell_type": "code",
   "execution_count": 4,
   "id": "b327bd59-b3f4-410f-aff4-a19de745155f",
   "metadata": {
    "tags": []
   },
   "outputs": [
    {
     "name": "stdout",
     "output_type": "stream",
     "text": [
      "/home/jovyan\n"
     ]
    }
   ],
   "source": [
    "# if it is ubuntu & normal user \n",
    "# like under kubeflow jupyter notebook\n",
    "# uncomment below 3 lines\n",
    "#!git clone https://github.com/larrycai/dds-so.git  # clone and get libdds.so\n",
    "#!cp dds-so/jammy/libdds.so /opt/conda/lib/python3.11/site-packages/redeal\n",
    "#!export LD_LIBRARY_PATH=$HOME/dds-so/jammy:$LD_LIBRARY_PATH"
   ]
  },
  {
   "cell_type": "markdown",
   "id": "613d8541-5495-45a8-a774-4be21720035c",
   "metadata": {},
   "source": [
    "# Verify whether the env"
   ]
  },
  {
   "cell_type": "markdown",
   "id": "fdadbe81-7884-4c62-b492-5f3a5a307a94",
   "metadata": {},
   "source": [
    "# Let's see the question\n",
    "\n",
    "it is ...."
   ]
  },
  {
   "cell_type": "markdown",
   "id": "981689f7-8833-4286-a2aa-d2a95bf45c60",
   "metadata": {},
   "source": [
    "# AI Ben's solution\n",
    "\n",
    "explain little bit\n"
   ]
  },
  {
   "cell_type": "code",
   "execution_count": null,
   "id": "4a59ad50-ddb9-44d6-8aad-64e426af00a0",
   "metadata": {
    "tags": []
   },
   "outputs": [],
   "source": [
    "# uncomment below for debuging\n",
    "#!pip uninstall -y ben\n",
    "#!pip install --upgrade git+https://github.com/larrycai/ben-lite # install ben python package, not released\n"
   ]
  },
  {
   "cell_type": "code",
   "execution_count": 6,
   "id": "c7cfd71d-cf5d-4da7-b71f-52265205a0b3",
   "metadata": {
    "tags": []
   },
   "outputs": [
    {
     "data": {
      "application/vnd.jupyter.widget-view+json": {
       "model_id": "3c84d8326d9542568bf7efe6a2e20b33",
       "version_major": 2,
       "version_minor": 0
      },
      "text/plain": [
       "Fetching 5 files:   0%|          | 0/5 [00:00<?, ?it/s]"
      ]
     },
     "metadata": {},
     "output_type": "display_data"
    },
    {
     "data": {
      "application/vnd.jupyter.widget-view+json": {
       "model_id": "aaa46a1a6fa74f34a27a1c15d304db78",
       "version_major": 2,
       "version_minor": 0
      },
      "text/plain": [
       "Fetching 5 files:   0%|          | 0/5 [00:00<?, ?it/s]"
      ]
     },
     "metadata": {},
     "output_type": "display_data"
    },
    {
     "data": {
      "application/vnd.jupyter.widget-view+json": {
       "model_id": "91955cb5013a4fa6a5cc8f7acad7dc78",
       "version_major": 2,
       "version_minor": 0
      },
      "text/plain": [
       "Fetching 5 files:   0%|          | 0/5 [00:00<?, ?it/s]"
      ]
     },
     "metadata": {},
     "output_type": "display_data"
    },
    {
     "data": {
      "application/vnd.jupyter.widget-view+json": {
       "model_id": "90af9d20f6bf421481fb3052398d32f9",
       "version_major": 2,
       "version_minor": 0
      },
      "text/plain": [
       "Fetching 5 files:   0%|          | 0/5 [00:00<?, ?it/s]"
      ]
     },
     "metadata": {},
     "output_type": "display_data"
    },
    {
     "data": {
      "text/plain": [
       "'/home/jovyan/hfmodels'"
      ]
     },
     "execution_count": 6,
     "metadata": {},
     "output_type": "execute_result"
    }
   ],
   "source": [
    "import huggingface_hub\n",
    "import os\n",
    "lead_id=\"AIBridgeEngine/Ben-3B-Lead-v0.1\"\n",
    "bidding_id=\"AIBridgeEngine/Ben-3B-Bidding-v0.1\"\n",
    "biddinginfo_id=\"AIBridgeEngine/Ben-3B-Biddinginformation-v0.1\"\n",
    "singledummy_id=\"AIBridgeEngine/Ben-3B-Singledummy-v0.1\"\n",
    "folder=\"hfmodels\"\n",
    "huggingface_hub.snapshot_download(repo_id=lead_id, local_dir=folder)\n",
    "huggingface_hub.snapshot_download(repo_id=bidding_id, local_dir=folder)\n",
    "huggingface_hub.snapshot_download(repo_id=biddinginfo_id, local_dir=folder)\n",
    "huggingface_hub.snapshot_download(repo_id=singledummy_id, local_dir=folder)"
   ]
  },
  {
   "cell_type": "code",
   "execution_count": 51,
   "id": "9ca5d9ec-72c6-4bc6-a4d2-0c9a8e7cc8d7",
   "metadata": {
    "tags": []
   },
   "outputs": [
    {
     "name": "stdout",
     "output_type": "stream",
     "text": [
      "INFO:tensorflow:Restoring parameters from hfmodels/lead-1000000\n",
      "INFO:tensorflow:Restoring parameters from hfmodels/binfo-100000\n",
      "INFO:tensorflow:Restoring parameters from hfmodels/bidding-100000\n",
      "INFO:tensorflow:Restoring parameters from hfmodels/lr3-1000000\n"
     ]
    }
   ],
   "source": [
    "from ben.nn.models import Models\n",
    "from ben.bots import BotLead\n",
    "from ben.sample import Sample\n",
    "from ben.nn.leader import Leader\n",
    "from ben.nn.bid_info import BidInfo\n",
    "from ben.nn.bidder import Bidder\n",
    "from ben.nn.lead_singledummy import LeadSingleDummy\n",
    "lead = Leader(f'{folder}/lead-1000000')\n",
    "biddinginfo = BidInfo(f'{folder}/binfo-100000')\n",
    "bidder = Bidder(\"\", f'{folder}/bidding-100000')\n",
    "sd_model = LeadSingleDummy(f'{folder}/lr3-1000000')\n",
    "models = Models(bidder, biddinginfo, lead, sd_model, None, 0.1, 0.05,0.75, 0.66)\n",
    "sampler = Sample(0.01, 0.1, 0.03, 0.05, 64, 5000, 5000, 128, 100, False)\n"
   ]
  },
  {
   "cell_type": "code",
   "execution_count": 52,
   "id": "c5ea8045-8424-414f-86a0-00adc9416c62",
   "metadata": {
    "tags": []
   },
   "outputs": [
    {
     "name": "stdout",
     "output_type": "stream",
     "text": [
      "Sorting by insta_score\n",
      "Hx\n",
      "0.6122079807122794\n"
     ]
    }
   ],
   "source": [
    "# both vulnerable. you are sitting North as dealer and you hold\n",
    "hand = 'T54.QT87.A98.943'\n",
    "\n",
    "# the auction goes:\n",
    "auction = [\"1C\",\"1D\",\"1S\",\"2D\",\"X\",\"PASS\",\"2S\",\"PASS\",\"3C\",\"PASS\",\"3N\",\"PASS\",\"4S\",'PASS', 'PASS', 'PASS']\n",
    "\n",
    "# what to lead?\n",
    "\n",
    "lead_bot = BotLead([True, True], hand, models, -1, -1, models.lead_threshold, sampler, False)\n",
    "lead = lead_bot.find_opening_lead(auction)"
   ]
  },
  {
   "cell_type": "code",
   "execution_count": 53,
   "id": "fa59baba-27c2-4175-8527-c49b49730118",
   "metadata": {},
   "outputs": [
    {
     "data": {
      "text/plain": [
       "HT"
      ]
     },
     "execution_count": 53,
     "metadata": {},
     "output_type": "execute_result"
    }
   ],
   "source": [
    "lead.card"
   ]
  },
  {
   "cell_type": "markdown",
   "id": "07ebd844-73df-4a50-97ce-57c992517984",
   "metadata": {},
   "source": [
    "seems like the engine chose to lead the ace of diamonds\n",
    "\n",
    "the other options it considered were: a small spade and a small club"
   ]
  },
  {
   "cell_type": "code",
   "execution_count": 54,
   "id": "146b3c86-aeff-4ebe-8083-47bd26adc6bc",
   "metadata": {},
   "outputs": [
    {
     "data": {
      "text/plain": [
       "[{'card': 'HT',\n",
       "  'insta_score': 0.0649,\n",
       "  'expected_tricks': 10.38,\n",
       "  'p_make_contract': 0.72},\n",
       " {'card': 'Hx',\n",
       "  'insta_score': 0.6122,\n",
       "  'expected_tricks': 10.45,\n",
       "  'p_make_contract': 0.73},\n",
       " {'card': 'DA',\n",
       "  'insta_score': 0.1587,\n",
       "  'expected_tricks': 10.29,\n",
       "  'p_make_contract': 0.73}]"
      ]
     },
     "execution_count": 54,
     "metadata": {},
     "output_type": "execute_result"
    }
   ],
   "source": [
    "lead.to_dict()['candidates']"
   ]
  },
  {
   "cell_type": "markdown",
   "id": "cafb45bb-8bfc-4748-b77a-c99918ae7808",
   "metadata": {},
   "source": [
    "in the above output:\n",
    "- `insta_score` reflects the preference of the neural network\n",
    "- `expected_tricks` how many tricks declarer is expected to take on this lead\n",
    "- `p_make_contract` is the probability of the contract making on this lead\n",
    "\n",
    "the probability of making and the expected tricks are computed on samples which are consistent with the auction. the samples are estimated single dummy using a neural network (more on this in another tutorial). we could also solve the samples double dummy, but that would be quite a bit slower."
   ]
  },
  {
   "cell_type": "code",
   "execution_count": 55,
   "id": "7b09bff7-2307-42ab-b254-0a042d2f23b5",
   "metadata": {},
   "outputs": [
    {
     "data": {
      "text/plain": [
       "['Jxx.AJ9x.xx.AKJT AK.Kxxx.Txxxx.8x Q98xx.x.KQJ.Qxxx',\n",
       " 'Kxx.A9x.J.AQT8xx Ax.xx.Qxxxxx.Kxx QJ98x.KJxx.KTx.J',\n",
       " 'K9x.KJxx.x.AQJTx J.Ax.KQJxxxx.8xx AQ8xxx.9xx.Tx.Kx',\n",
       " 'AKx.AJxx.x.KJT8x J9.Kx.QJTxxx.xxx Q8xxx.9xx.Kxx.AQ',\n",
       " '8xx.AKx.KQ.QTxxx KJ.J9x.JTxxxx.AK AQ9xx.xxx.xx.J8x',\n",
       " 'AKx.9xx.x.AKQTxx .KJxxx.QJTxxx.8x QJ98xxx.A.Kxx.Jx',\n",
       " 'AQxx.Axx..AKQJ8x 8x.K9x.KJxxxx.Tx KJ9x.Jxx.QTxx.xx',\n",
       " 'Qx.AKx.xx.KQT8xx Ax.xxxx.KQJxx.xx KJ98xx.J9.Txx.AJ',\n",
       " '9x.AJxx.K.KQJTxx Ax.xxx.QJTxxx.Ax KQJ8xx.K9.xxx.8x',\n",
       " 'A9x.AJ9x.Kx.AQxx K.Kxx.QJTxxxx.Tx QJ8xxx.xx.x.KJ8x',\n",
       " 'AQJ.KJxx..AKQJxx Kx.Axx.JTxxx.T8x 98xxx.9x.KQxxx.x',\n",
       " 'KQx.Ax.x.AQJT8xx 8.KJxx.QJTxxx.Kx AJ9xxx.9xx.Kxx.x',\n",
       " 'K8x.9.Kx.AKQTxxx Ax.AKxx.JTxxxx.8 QJ9xx.Jxxx.Qx.Jx',\n",
       " 'A9x.AKxx.Tx.KQTx 8x.9xx.KQJxx.Axx KQJxx.Jx.xxx.J8x',\n",
       " 'KJx.K9x.Kx.AJT8x 9x.AJx.Jxxxx.KQx AQ8xx.xxx.QTx.xx',\n",
       " 'QJ8.AKx.x.AQJTxx Kx.xx.KJxxxx.Kxx A9xxx.J9xx.QTx.8',\n",
       " 'AJ9.A9.QTx.KQT8x .Kxxxx.KJxxxx.xx KQ8xxxx.Jx.x.AJx',\n",
       " 'AQ8x.KJx..KJTxxx Jx.xxx.KJxxx.AQ8 K9xx.A9x.QTxxx.x',\n",
       " 'A8x.A9xx.xx.AKJx Jx.J.QJTxxx.T8xx KQ9xx.Kxxx.Kx.Qx',\n",
       " 'KQ9.Kxx.JT.AKJTx xx.9xxx.KQxxx.Q8 AJ8xx.AJ.xxx.xxx',\n",
       " 'K98x.AJx.xx.AKxx Qx.K9.KQTxx.QJTx AJxx.xxxx.Jxx.8x',\n",
       " 'AKJx.9x.x.KQJ8xx x.KJxx.KQxxxx.Tx Q98xx.Axx.JTx.Ax',\n",
       " 'KQxx.K9.x.KQJTxx 9.AJxx.KJxxxx.Ax AJ8xx.xxx.QTx.8x',\n",
       " 'Axx.Axx.K.AQJTxx K9x.Kxx.QJTxxx.x QJ8x.J9x.xxx.K8x',\n",
       " 'K9.Axxx..AKQJTxx Q.KJ9x.KQJTxx.8x AJ8xxxx.x.xxxx.x',\n",
       " 'AKQ8.9x.x.AQJTxx x.Jxxx.KQxxx.K8x J9xxx.AKx.JTxx.x',\n",
       " 'AKQx.Kxx.x.AKJTx 8.J9x.KQTxxxx.8x J9xxx.Axx.Jx.Qxx',\n",
       " 'AJ9x.Ax.Q.AT8xxx Kx.9xxx.KJxxxx.x Q8xx.KJx.Txx.KQJ',\n",
       " 'AKQxx.Axxx..QJxx .J9.KQTxxx.KT8xx J98xx.Kxx.Jxxx.A',\n",
       " 'K98x.A9x.x.AQJTx A.Kxx.QJTxxx.8xx QJxxx.Jxx.Kxx.Kx',\n",
       " 'AKxx.Kxx.J.QJTxx Jx.AJ9xx.KTxxx.x Q98x.x.Qxxx.AK8x',\n",
       " 'AQJ9x.AJx.x.Axxx K.9xx.KJTxxxx.8x 8xxx.Kxx.Qx.KQJT',\n",
       " 'AK9x.AJx.x.QTxxx 8x.9x.QTxxxxx.AK QJxx.Kxxx.KJ.J8x',\n",
       " 'AKJ.x.KQx.KQJT8x xx.AJxx.JTxxx.xx Q98xx.K9xx.xx.Ax',\n",
       " 'K.KJxx.KJ.AQJxxx AJx.A9x.QTxxxx.x Q98xxx.xx.xx.KT8',\n",
       " 'A8x.A9x.Tx.AKQTx QJ.KJxx.KQJx.Jxx K9xxx.xx.xxxx.8x',\n",
       " 'KQ.K.QTx.AKQT8xx J.9xxxxx.KJxxx.x A98xxxx.AJ.xx.Jx',\n",
       " 'AQ.AK9xx.x.KQJ8x KJx.Jx.KJxxx.Axx 98xxx.xx.QTxx.Tx',\n",
       " 'Ax.A9x.Txx.AQJ8x KQ.Jxx.KQxx.KTxx J98xxx.Kxx.Jxx.x',\n",
       " 'K9.AJx.Qxx.KQTxx Qx.K9xxx.KTxx.8x AJ8xxx.x.Jxx.AJx',\n",
       " 'AJ8x.AK9x.x.AJxx KQ.xx.KTxxx.KQT8 9xxx.Jxx.QJxx.xx',\n",
       " 'AKxx.9xx.KT.AKxx J8.AJxxx.Qxxx.8x Q9xx.K.Jxxx.QJTx',\n",
       " 'AKx.AJ9x.Jx.K8xx Q9x.xx.KQxxx.AQJ J8xx.Kxx.Txx.Txx',\n",
       " 'AK9.AJxx.Jx.AQT8 xxx.9xx.KTxxx.Jx QJ8x.Kx.Qxx.Kxxx',\n",
       " 'Kx.xx.Qxx.AKQJTx 8.A9xxx.KTxx.8xx AQJ9xxx.KJ.Jxx.x',\n",
       " 'K9.AKxx.Qx.AKQ8x Q8x.xx.JTxxx.Jxx AJxxx.J9x.Kxx.Tx',\n",
       " 'AKx.Kx.KQx.AQTxx xx.AJ9xx.xxxx.8x QJ98x.xx.JTx.KJx',\n",
       " 'K98x.Kx.xx.AKQxx Qx.9xxxx.JTxx.xx AJxx.AJ.KQxx.JT8',\n",
       " 'KQ98.Kx.Kxx.AJxx xx.Jxxx.QJTx.8xx AJxx.A9x.xxx.KQT',\n",
       " 'AKJ8.Ax.xx.AQxxx xx.9xxx.KJxx.T8x Q9xx.KJx.QTxx.KJ',\n",
       " 'Qx.K9x.Kx.AKQTxx 9xx.Jxxx.JTxx.Jx AKJ8x.Ax.Qxxx.8x']"
      ]
     },
     "execution_count": 55,
     "metadata": {},
     "output_type": "execute_result"
    }
   ],
   "source": [
    "# each row is one sample board\n",
    "# the hands are in the order: LHO, Partner, RHO. Your cards are not shown as they are fixed/\n",
    "\n",
    "lead.samples"
   ]
  },
  {
   "cell_type": "code",
   "execution_count": null,
   "id": "cab39e82",
   "metadata": {},
   "outputs": [],
   "source": []
  }
 ],
 "metadata": {
  "kernelspec": {
   "display_name": "Python 3 (ipykernel)",
   "language": "python",
   "name": "python3"
  },
  "language_info": {
   "codemirror_mode": {
    "name": "ipython",
    "version": 3
   },
   "file_extension": ".py",
   "mimetype": "text/x-python",
   "name": "python",
   "nbconvert_exporter": "python",
   "pygments_lexer": "ipython3",
   "version": "3.11.5"
  }
 },
 "nbformat": 4,
 "nbformat_minor": 5
}
